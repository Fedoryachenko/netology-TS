{
 "cells": [
  {
   "cell_type": "markdown",
   "id": "37b719e4",
   "metadata": {},
   "source": [
    "## Digit Recognizer\n",
    "\n",
    "https://www.kaggle.com/c/digit-recognizer"
   ]
  },
  {
   "cell_type": "code",
   "execution_count": 17,
   "id": "3fa4223b",
   "metadata": {},
   "outputs": [
    {
     "name": "stdout",
     "output_type": "stream",
     "text": [
      "Collecting opencv-python\n",
      "  Downloading opencv_python-4.7.0.72-cp37-abi3-macosx_10_16_x86_64.whl (53.9 MB)\n",
      "\u001b[K     |████████████████████████████████| 53.9 MB 1.5 MB/s eta 0:00:01\n",
      "\u001b[?25hRequirement already satisfied: numpy>=1.19.3 in ./opt/anaconda3/lib/python3.9/site-packages (from opencv-python) (1.20.3)\n",
      "Installing collected packages: opencv-python\n",
      "Successfully installed opencv-python-4.7.0.72\n",
      "Note: you may need to restart the kernel to use updated packages.\n"
     ]
    }
   ],
   "source": [
    "pip install opencv-python"
   ]
  },
  {
   "cell_type": "code",
   "execution_count": 83,
   "id": "71c65cbf",
   "metadata": {},
   "outputs": [],
   "source": [
    "%matplotlib inline\n",
    " \n",
    "import cv2\n",
    "import numpy as np\n",
    "import pandas as pd\n",
    "import matplotlib.pyplot as plt\n",
    "from sklearn.model_selection import train_test_split\n",
    "from sklearn.neighbors import KNeighborsClassifier\n",
    "from sklearn.metrics import accuracy_score"
   ]
  },
  {
   "cell_type": "code",
   "execution_count": 19,
   "id": "9cc6eb10",
   "metadata": {},
   "outputs": [
    {
     "name": "stdout",
     "output_type": "stream",
     "text": [
      "4.7.0\n"
     ]
    }
   ],
   "source": [
    "print(cv2.__version__)"
   ]
  },
  {
   "cell_type": "markdown",
   "id": "64fcf39e",
   "metadata": {},
   "source": [
    "подгружаю данные "
   ]
  },
  {
   "cell_type": "code",
   "execution_count": 21,
   "id": "9448c09b",
   "metadata": {},
   "outputs": [],
   "source": [
    "train = np.loadtxt('/Users/anastasiafedoracenko/Desktop/digit-recognizer/train.csv', delimiter = ',', skiprows = 1)\n",
    "test = np.loadtxt('/Users/anastasiafedoracenko/Desktop/digit-recognizer/test.csv', delimiter = ',', skiprows = 1)"
   ]
  },
  {
   "cell_type": "markdown",
   "id": "105bc506",
   "metadata": {},
   "source": [
    "сохраняем разметку в отдельную переменную"
   ]
  },
  {
   "cell_type": "code",
   "execution_count": 30,
   "id": "1f9cc4c1",
   "metadata": {},
   "outputs": [],
   "source": [
    "train_label = train[:, 0]"
   ]
  },
  {
   "cell_type": "markdown",
   "id": "fec2ac2b",
   "metadata": {},
   "source": [
    "приводим размерность к удобному для обаботки виду"
   ]
  },
  {
   "cell_type": "code",
   "execution_count": 35,
   "id": "475764a4",
   "metadata": {},
   "outputs": [],
   "source": [
    "train_img = np.resize(train [:, 1:], (train.shape[0],28, 28))\n",
    "test_img = np.resize(test, (test.shape[0], 28, 28))"
   ]
  },
  {
   "cell_type": "code",
   "execution_count": 36,
   "id": "9cdbad78",
   "metadata": {},
   "outputs": [
    {
     "data": {
      "text/plain": [
       "(42000, 28, 28)"
      ]
     },
     "execution_count": 36,
     "metadata": {},
     "output_type": "execute_result"
    }
   ],
   "source": [
    "train_img.shape"
   ]
  },
  {
   "cell_type": "code",
   "execution_count": 37,
   "id": "babadfaf",
   "metadata": {},
   "outputs": [
    {
     "data": {
      "text/plain": [
       "(28000, 28, 28)"
      ]
     },
     "execution_count": 37,
     "metadata": {},
     "output_type": "execute_result"
    }
   ],
   "source": [
    "test_img.shape"
   ]
  },
  {
   "cell_type": "markdown",
   "id": "9bcfd5e1",
   "metadata": {},
   "source": [
    "Визуализируем исходные данные \n"
   ]
  },
  {
   "cell_type": "code",
   "execution_count": 51,
   "id": "1515342b",
   "metadata": {},
   "outputs": [
    {
     "data": {
      "image/png": "[encoded data removed]",
      "text/plain": [
       "<Figure size 1440x1080 with 10 Axes>"
      ]
     },
     "metadata": {
      "needs_background": "light"
     },
     "output_type": "display_data"
    }
   ],
   "source": [
    "fig = plt.figure(figsize = (20, 15))\n",
    "for i, img in enumerate(train_img[0: 10], 1):\n",
    "    subplot = fig.add_subplot(1, 10, i)\n",
    "    plt.imshow(img, cmap = 'gray');\n",
    "    subplot.set_title('%s' % train_label[i - 1]);"
   ]
  },
  {
   "cell_type": "markdown",
   "id": "5b1240bd",
   "metadata": {},
   "source": [
    "Понижение размерности с помощью РСА"
   ]
  },
  {
   "cell_type": "code",
   "execution_count": 53,
   "id": "0aff993a",
   "metadata": {},
   "outputs": [],
   "source": [
    "X_train = train_img.reshape(-1, 28 * 28).astype(np.float32)\n",
    "X_test = test_img.reshape(-1, 28 * 28).astype(np.float32)"
   ]
  },
  {
   "cell_type": "markdown",
   "id": "ee7bf048",
   "metadata": {},
   "source": [
    "Центруем данные "
   ]
  },
  {
   "cell_type": "code",
   "execution_count": 55,
   "id": "82477593",
   "metadata": {},
   "outputs": [],
   "source": [
    "X_train_mean = X_train.mean(axis = 0)\n",
    "X_train -= X_train_mean\n",
    "\n",
    "\n",
    "X_test_mean = X_test.mean(axis = 0)\n",
    "X_test -= X_test_mean"
   ]
  },
  {
   "cell_type": "markdown",
   "id": "b9f72544",
   "metadata": {},
   "source": [
    "Матрица ковариации"
   ]
  },
  {
   "cell_type": "code",
   "execution_count": 60,
   "id": "f7d251ae",
   "metadata": {},
   "outputs": [],
   "source": [
    "cov_train = np.dot(X_train.T, X_train) / X_train.shape[0]\n",
    "\n",
    "cov_test = np.dot(X_test.T, X_test) / X_test.shape[0]"
   ]
  },
  {
   "cell_type": "markdown",
   "id": "a04c051a",
   "metadata": {},
   "source": [
    "Собственные вектора и значения "
   ]
  },
  {
   "cell_type": "code",
   "execution_count": 63,
   "id": "1244a010",
   "metadata": {},
   "outputs": [],
   "source": [
    "U, S, _ = np.linalg.svd(cov_train)\n",
    "\n",
    "U_1, S_1, _ = np.linalg.svd(cov_test)"
   ]
  },
  {
   "cell_type": "markdown",
   "id": "722c0857",
   "metadata": {},
   "source": [
    "Накопленная сумма собственных значений "
   ]
  },
  {
   "cell_type": "code",
   "execution_count": 66,
   "id": "56b62be6",
   "metadata": {},
   "outputs": [
    {
     "data": {
      "text/plain": [
       "[<matplotlib.lines.Line2D at 0x7fc0c4ddd370>]"
      ]
     },
     "execution_count": 66,
     "metadata": {},
     "output_type": "execute_result"
    },
    {
     "data": {
      "image/png": "[encoded data removed]",
      "text/plain": [
       "<Figure size 432x288 with 1 Axes>"
      ]
     },
     "metadata": {
      "needs_background": "light"
     },
     "output_type": "display_data"
    }
   ],
   "source": [
    "S_cumsum = np.cumsum(S) / np.sum(S)\n",
    "plt.plot(S_cumsum, 'o')"
   ]
  },
  {
   "cell_type": "code",
   "execution_count": 67,
   "id": "cf2aed49",
   "metadata": {},
   "outputs": [
    {
     "data": {
      "text/plain": [
       "[<matplotlib.lines.Line2D at 0x7fc0b2d9a370>]"
      ]
     },
     "execution_count": 67,
     "metadata": {},
     "output_type": "execute_result"
    },
    {
     "data": {
      "image/png": "[encoded data removed]",
      "text/plain": [
       "<Figure size 432x288 with 1 Axes>"
      ]
     },
     "metadata": {
      "needs_background": "light"
     },
     "output_type": "display_data"
    }
   ],
   "source": [
    "S_1_cumsum = np.cumsum(S_1) / np.sum(S_1)\n",
    "plt.plot(S_1_cumsum, 'o')"
   ]
  },
  {
   "cell_type": "code",
   "execution_count": 68,
   "id": "f3921e1a",
   "metadata": {},
   "outputs": [
    {
     "name": "stdout",
     "output_type": "stream",
     "text": [
      "[000] 0.097\n",
      "[001] 0.169\n",
      "[002] 0.231\n",
      "[003] 0.284\n",
      "[004] 0.333\n",
      "[005] 0.376\n",
      "[006] 0.409\n",
      "[007] 0.438\n",
      "[008] 0.466\n",
      "[009] 0.489\n"
     ]
    }
   ],
   "source": [
    "for i in range(10):\n",
    "    print('[%03d] %.3f' % (i, S_cumsum[i]))"
   ]
  },
  {
   "cell_type": "markdown",
   "id": "07f62d1d",
   "metadata": {},
   "source": [
    "задаем порог для накопленной суммы собственных значений и определяем необходимое число компонент для заданного порога\n"
   ]
  },
  {
   "cell_type": "code",
   "execution_count": 107,
   "id": "aa359905",
   "metadata": {},
   "outputs": [
    {
     "name": "stdout",
     "output_type": "stream",
     "text": [
      "n_comp = 32, S = 0.751\n"
     ]
    }
   ],
   "source": [
    "S_thr = 0.75\n",
    "n_comp = np.argmax(np.where(S_cumsum > S_thr, 1, 0))\n",
    "\n",
    "print('n_comp = %d, S = %.3f' % (n_comp, S_cumsum[n_comp]))"
   ]
  },
  {
   "cell_type": "markdown",
   "id": "42134cea",
   "metadata": {},
   "source": [
    "Получаем сжатое представление объектов "
   ]
  },
  {
   "cell_type": "code",
   "execution_count": 75,
   "id": "443d533b",
   "metadata": {},
   "outputs": [],
   "source": [
    "Xrot_reduced_train = np.dot(X_train, U[:, :n_comp])\n",
    "\n",
    "Xrot_reduced_test = np.dot(X_test, U_1[:, :n_comp])"
   ]
  },
  {
   "cell_type": "markdown",
   "id": "585676cf",
   "metadata": {},
   "source": [
    "Разбиваем данную выборку на обучение и валидацию, инициализируем модель knn, обучаем и предсказываем."
   ]
  },
  {
   "cell_type": "code",
   "execution_count": 79,
   "id": "9b3c8bc5",
   "metadata": {},
   "outputs": [],
   "source": [
    "y_train, y_val, x_train, x_val = train_test_split(train_label, Xrot_reduced_train, test_size = 0.2, random_state = 7)"
   ]
  },
  {
   "cell_type": "code",
   "execution_count": 80,
   "id": "c2053be3",
   "metadata": {},
   "outputs": [],
   "source": [
    "knn = KNeighborsClassifier(n_neighbors = 10)"
   ]
  },
  {
   "cell_type": "code",
   "execution_count": 81,
   "id": "fc937a7b",
   "metadata": {},
   "outputs": [
    {
     "data": {
      "text/plain": [
       "KNeighborsClassifier(n_neighbors=10)"
      ]
     },
     "execution_count": 81,
     "metadata": {},
     "output_type": "execute_result"
    }
   ],
   "source": [
    "knn.fit(x_train, y_train)"
   ]
  },
  {
   "cell_type": "code",
   "execution_count": 82,
   "id": "e1f90489",
   "metadata": {},
   "outputs": [],
   "source": [
    "y_pred = knn.predict(x_val)"
   ]
  },
  {
   "cell_type": "code",
   "execution_count": 102,
   "id": "be66d197",
   "metadata": {},
   "outputs": [
    {
     "data": {
      "text/plain": [
       "0.9689285714285715"
      ]
     },
     "execution_count": 102,
     "metadata": {},
     "output_type": "execute_result"
    }
   ],
   "source": [
    "accuracy_score(y_pred, y_val)"
   ]
  },
  {
   "cell_type": "markdown",
   "id": "882cd835",
   "metadata": {},
   "source": [
    "Текущая размерность данных"
   ]
  },
  {
   "cell_type": "code",
   "execution_count": 106,
   "id": "1b986381",
   "metadata": {},
   "outputs": [
    {
     "data": {
      "text/plain": [
       "(33600, 144)"
      ]
     },
     "execution_count": 106,
     "metadata": {},
     "output_type": "execute_result"
    }
   ],
   "source": [
    "x_train.shape"
   ]
  },
  {
   "cell_type": "markdown",
   "id": "1b34998f",
   "metadata": {},
   "source": [
    "Готовим файл с предсказаниями для отправки на кагл"
   ]
  },
  {
   "cell_type": "code",
   "execution_count": 109,
   "id": "a496ffe6",
   "metadata": {},
   "outputs": [],
   "source": [
    "with open('submit_result.csv', 'w') as dst:\n",
    "    dst.write('ImageId,Label\\n')\n",
    "    for i, p in enumerate(pred_test, 1):\n",
    "        dst.write('%s,%d\\n' % (i, p))\n"
   ]
  },
  {
   "cell_type": "code",
   "execution_count": 111,
   "id": "69e3df56",
   "metadata": {},
   "outputs": [
    {
     "name": "stdout",
     "output_type": "stream",
     "text": [
      "ImageId,Label\r\n",
      "1,2\r\n",
      "2,0\r\n",
      "3,9\r\n",
      "4,0\r\n",
      "5,3\r\n",
      "6,7\r\n",
      "7,0\r\n",
      "8,3\r\n",
      "9,0\r\n"
     ]
    }
   ],
   "source": [
    "!head submit_result.csv"
   ]
  },
  {
   "cell_type": "code",
   "execution_count": null,
   "id": "f1e3a156",
   "metadata": {},
   "outputs": [],
   "source": []
  }
 ],
 "metadata": {
  "kernelspec": {
   "display_name": "Python 3 (ipykernel)",
   "language": "python",
   "name": "python3"
  },
  "language_info": {
   "codemirror_mode": {
    "name": "ipython",
    "version": 3
   },
   "file_extension": ".py",
   "mimetype": "text/x-python",
   "name": "python",
   "nbconvert_exporter": "python",
   "pygments_lexer": "ipython3",
   "version": "3.9.7"
  }
 },
 "nbformat": 4,
 "nbformat_minor": 5
}
